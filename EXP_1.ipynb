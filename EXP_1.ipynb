{
  "nbformat": 4,
  "nbformat_minor": 0,
  "metadata": {
    "colab": {
      "provenance": [],
      "toc_visible": true
    },
    "kernelspec": {
      "name": "python3",
      "display_name": "Python 3"
    },
    "language_info": {
      "name": "python"
    }
  },
  "cells": [
    {
      "cell_type": "code",
      "execution_count": 12,
      "metadata": {
        "colab": {
          "base_uri": "https://localhost:8080/"
        },
        "id": "r9XMg30XaLFC",
        "outputId": "d64ef602-c709-4542-c39a-279d3f77d62a"
      },
      "outputs": [
        {
          "output_type": "stream",
          "name": "stdout",
          "text": [
            "Collecting gym-walk\n",
            "  Cloning https://github.com/mimoralea/gym-walk to /tmp/pip-install-l70cpfco/gym-walk_ac4530ca93714f7e865bebe53c76ee56\n",
            "  Running command git clone --filter=blob:none --quiet https://github.com/mimoralea/gym-walk /tmp/pip-install-l70cpfco/gym-walk_ac4530ca93714f7e865bebe53c76ee56\n",
            "  Resolved https://github.com/mimoralea/gym-walk to commit 5999016267d6de2f5a63307fb00dfd63de319ac1\n",
            "  Preparing metadata (setup.py) ... \u001b[?25l\u001b[?25hdone\n",
            "Requirement already satisfied: gym in /usr/local/lib/python3.10/dist-packages (from gym-walk) (0.25.2)\n",
            "Requirement already satisfied: numpy>=1.18.0 in /usr/local/lib/python3.10/dist-packages (from gym->gym-walk) (1.23.5)\n",
            "Requirement already satisfied: cloudpickle>=1.2.0 in /usr/local/lib/python3.10/dist-packages (from gym->gym-walk) (2.2.1)\n",
            "Requirement already satisfied: gym-notices>=0.0.4 in /usr/local/lib/python3.10/dist-packages (from gym->gym-walk) (0.0.8)\n"
          ]
        }
      ],
      "source": [
        "pip install git+https://github.com/mimoralea/gym-walk#egg=gym-walk"
      ]
    },
    {
      "cell_type": "code",
      "source": [
        "P={0: {0: [(1.0, 0, 0.0, True)],\n",
        "       1: [(1.0, 0, 0.0, True)]},\n",
        "   1: {0: [(1.0, 0, 0.0, True)],\n",
        "       1: [(1.0, 2, 1.0, True)]},\n",
        "   2: {0: [(1.0, 2, 0.0, True)],\n",
        "       1: [(1.0, 2, 0.0, True)]}\n",
        "  }"
      ],
      "metadata": {
        "id": "p6CWz_X2azmB"
      },
      "execution_count": 15,
      "outputs": []
    },
    {
      "cell_type": "code",
      "source": [
        "P"
      ],
      "metadata": {
        "colab": {
          "base_uri": "https://localhost:8080/"
        },
        "id": "OOBXRckLbbbw",
        "outputId": "e4f08b20-3d5e-43b0-a661-0176f2480951"
      },
      "execution_count": 16,
      "outputs": [
        {
          "output_type": "execute_result",
          "data": {
            "text/plain": [
              "{0: {0: [(1.0, 0, 0.0, True)], 1: [(1.0, 0, 0.0, True)]},\n",
              " 1: {0: [(1.0, 0, 0.0, True)], 1: [(1.0, 2, 1.0, True)]},\n",
              " 2: {0: [(1.0, 2, 0.0, True)], 1: [(1.0, 2, 0.0, True)]}}"
            ]
          },
          "metadata": {},
          "execution_count": 16
        }
      ]
    }
  ]
}